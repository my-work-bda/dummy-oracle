{
 "cells": [
  {
   "cell_type": "code",
   "execution_count": null,
   "metadata": {},
   "outputs": [],
   "source": [
    "!pip install pandas python-dotenv\n",
    "!pip install cx_Oracle sqlalchemy"
   ]
  },
  {
   "cell_type": "code",
   "execution_count": 1,
   "metadata": {},
   "outputs": [],
   "source": [
    "from dotenv import load_dotenv\n",
    "load_dotenv('.env')\n",
    "\n",
    "import os\n",
    "hostname = os.getenv('hostname')\n",
    "port = os.getenv('port')\n",
    "sid = os.getenv('sid')\n",
    "# service_name = os.getenv('service_name')\n",
    "username = os.getenv('username')\n",
    "password = os.getenv('password')"
   ]
  },
  {
   "cell_type": "code",
   "execution_count": 2,
   "metadata": {},
   "outputs": [],
   "source": [
    "import pandas as pd \n",
    "import time"
   ]
  },
  {
   "cell_type": "code",
   "execution_count": 3,
   "metadata": {},
   "outputs": [
    {
     "name": "stderr",
     "output_type": "stream",
     "text": [
      "/tmp/ipykernel_129150/1913792020.py:4: FutureWarning: Parsed string \"Sat Feb 02 12:50:00 IST 2019\" included an un-recognized timezone \"IST\". Dropping unrecognized timezones is deprecated; in a future version this will raise. Instead pass the string without the timezone, then use .tz_localize to convert to a recognized timezone.\n",
      "  df[\"TransactionTime\"] = pd.to_datetime(df['TransactionTime'])\n"
     ]
    }
   ],
   "source": [
    "# data source : https://www.kaggle.com/datasets/vipin20/transaction-data?resource=download\n",
    "df = pd.read_csv('./transaction_data.csv')\n",
    "# fix format time \n",
    "df[\"TransactionTime\"] = pd.to_datetime(df['TransactionTime'])\n",
    "df = df.sort_values(by='TransactionTime', ascending=True)"
   ]
  },
  {
   "cell_type": "code",
   "execution_count": 4,
   "metadata": {},
   "outputs": [
    {
     "name": "stdout",
     "output_type": "stream",
     "text": [
      "<class 'pandas.core.frame.DataFrame'>\n",
      "Index: 1083818 entries, 538323 to 242563\n",
      "Data columns (total 8 columns):\n",
      " #   Column                  Non-Null Count    Dtype         \n",
      "---  ------                  --------------    -----         \n",
      " 0   UserId                  1083818 non-null  int64         \n",
      " 1   TransactionId           1083818 non-null  int64         \n",
      " 2   TransactionTime         1083818 non-null  datetime64[ns]\n",
      " 3   ItemCode                1083818 non-null  int64         \n",
      " 4   ItemDescription         1080910 non-null  object        \n",
      " 5   NumberOfItemsPurchased  1083818 non-null  int64         \n",
      " 6   CostPerItem             1083818 non-null  float64       \n",
      " 7   Country                 1083818 non-null  object        \n",
      "dtypes: datetime64[ns](1), float64(1), int64(4), object(2)\n",
      "memory usage: 74.4+ MB\n"
     ]
    }
   ],
   "source": [
    "df.info()"
   ]
  },
  {
   "cell_type": "code",
   "execution_count": 5,
   "metadata": {},
   "outputs": [
    {
     "ename": "DatabaseError",
     "evalue": "DPI-1047: Cannot locate a 64-bit Oracle Client library: \"libclntsh.so: cannot open shared object file: No such file or directory\". See https://cx-oracle.readthedocs.io/en/latest/user_guide/installation.html for help",
     "output_type": "error",
     "traceback": [
      "\u001b[0;31m---------------------------------------------------------------------------\u001b[0m",
      "\u001b[0;31mDatabaseError\u001b[0m                             Traceback (most recent call last)",
      "Cell \u001b[0;32mIn[5], line 7\u001b[0m\n\u001b[1;32m      4\u001b[0m \u001b[38;5;66;03m# Set up the Oracle connection\u001b[39;00m\n\u001b[1;32m      5\u001b[0m dsn \u001b[38;5;241m=\u001b[39m cx_Oracle\u001b[38;5;241m.\u001b[39mmakedsn(host\u001b[38;5;241m=\u001b[39mhostname, port\u001b[38;5;241m=\u001b[39mport, sid\u001b[38;5;241m=\u001b[39msid) \u001b[38;5;66;03m# result: (DESCRIPTION=(ADDRESS=(PROTOCOL=TCP)(HOST=localhost)(PORT=1521))(CONNECT_DATA=(SERVICE_NAME=ORCLPDB1)))\u001b[39;00m\n\u001b[0;32m----> 7\u001b[0m connection \u001b[38;5;241m=\u001b[39m \u001b[43mcx_Oracle\u001b[49m\u001b[38;5;241;43m.\u001b[39;49m\u001b[43mconnect\u001b[49m\u001b[43m(\u001b[49m\u001b[43muser\u001b[49m\u001b[38;5;241;43m=\u001b[39;49m\u001b[43musername\u001b[49m\u001b[43m,\u001b[49m\u001b[43m \u001b[49m\u001b[43mpassword\u001b[49m\u001b[38;5;241;43m=\u001b[39;49m\u001b[43mpassword\u001b[49m\u001b[43m,\u001b[49m\u001b[43m \u001b[49m\u001b[43mdsn\u001b[49m\u001b[38;5;241;43m=\u001b[39;49m\u001b[43mdsn\u001b[49m\u001b[43m)\u001b[49m\n\u001b[1;32m      9\u001b[0m \u001b[38;5;66;03m# Create an SQLAlchemy engine\u001b[39;00m\n\u001b[1;32m     10\u001b[0m engine \u001b[38;5;241m=\u001b[39m create_engine(\u001b[38;5;124mf\u001b[39m\u001b[38;5;124m'\u001b[39m\u001b[38;5;124moracle+cx_oracle://\u001b[39m\u001b[38;5;132;01m{\u001b[39;00musername\u001b[38;5;132;01m}\u001b[39;00m\u001b[38;5;124m:\u001b[39m\u001b[38;5;132;01m{\u001b[39;00mpassword\u001b[38;5;132;01m}\u001b[39;00m\u001b[38;5;124m@\u001b[39m\u001b[38;5;132;01m{\u001b[39;00mdsn\u001b[38;5;132;01m}\u001b[39;00m\u001b[38;5;124m'\u001b[39m)\n",
      "\u001b[0;31mDatabaseError\u001b[0m: DPI-1047: Cannot locate a 64-bit Oracle Client library: \"libclntsh.so: cannot open shared object file: No such file or directory\". See https://cx-oracle.readthedocs.io/en/latest/user_guide/installation.html for help"
     ]
    }
   ],
   "source": [
    "from sqlalchemy import create_engine\n",
    "import cx_Oracle\n",
    "\n",
    "cx_Oracle.init_oracle_client(lib_dir=r\"./instantclient_21_14\")\n",
    "# Set up the Oracle connection\n",
    "dsn = cx_Oracle.makedsn(host=hostname, port=port, sid=sid) # result: (DESCRIPTION=(ADDRESS=(PROTOCOL=TCP)(HOST=localhost)(PORT=1521))(CONNECT_DATA=(SERVICE_NAME=ORCLPDB1)))\n",
    "\n",
    "connection = cx_Oracle.connect(user=username, password=password, dsn=dsn)\n",
    "\n",
    "# Create an SQLAlchemy engine\n",
    "engine = create_engine(f'oracle+cx_oracle://{username}:{password}@{dsn}')"
   ]
  },
  {
   "cell_type": "code",
   "execution_count": null,
   "metadata": {},
   "outputs": [],
   "source": [
    "engine\n",
    "\n"
   ]
  },
  {
   "cell_type": "code",
   "execution_count": null,
   "metadata": {},
   "outputs": [],
   "source": [
    "# print(\"Test connection query\")\n",
    "pd.read_sql_query(\"SELECT * FROM C##MYUSER.BPM_EMPLOYEES\", engine).head(1)"
   ]
  },
  {
   "cell_type": "code",
   "execution_count": null,
   "metadata": {},
   "outputs": [],
   "source": [
    "from sqlalchemy.dialects.oracle import (\n",
    "                                        FLOAT,\n",
    "                                        NUMBER,\n",
    "                                        VARCHAR2,\n",
    "                                        DATE\n",
    "                                        )\n",
    "\n",
    "dtype = {\"UserId\" : NUMBER,\n",
    "         \"TransactionId\" : NUMBER,      \n",
    "         \"TransactionTime\": DATE,\n",
    "         \"ItemCode\": NUMBER,\n",
    "         \"ItemDescription\": VARCHAR2(255),\n",
    "         \"NumberOfItemsPurchased\": NUMBER,\n",
    "         \"CostPerItem\": FLOAT,\n",
    "         \"Country\": VARCHAR2(124),\n",
    "        }"
   ]
  },
  {
   "cell_type": "code",
   "execution_count": null,
   "metadata": {},
   "outputs": [],
   "source": [
    "# # Define the table name and schema\n",
    "# table_name = 'test_table'\n",
    "# schema_name = 'C##KEVIN'"
   ]
  },
  {
   "cell_type": "markdown",
   "metadata": {},
   "source": [
    "Update : \n",
    "- Import data transaksi was down,\n",
    "- make looping for insert data oracle, for testing cdc with delay 10 second"
   ]
  },
  {
   "cell_type": "code",
   "execution_count": null,
   "metadata": {},
   "outputs": [],
   "source": [
    "schema_name = 'C##MYUSER'\n",
    "table_name = \"TRANSACTIONS\""
   ]
  },
  {
   "cell_type": "code",
   "execution_count": null,
   "metadata": {},
   "outputs": [],
   "source": [
    "# runing query in oracle\n",
    "from sqlalchemy import create_engine, Table, MetaData, Column, Integer, String, Float, Date\n",
    "\n",
    "# Initialize metadata object\n",
    "metadata = MetaData()\n",
    "\n",
    "# Define the table\n",
    "table = Table(\n",
    "   table_name, metadata, \n",
    "   Column('UserId', Integer), \n",
    "   Column('TransactionId', Integer),\n",
    "   Column('TransactionTime', Date),\n",
    "   Column('ItemCode', Integer),\n",
    "   Column('ItemDescription', String(255)),\n",
    "   Column('NumberOfItemsPurchased', Integer),\n",
    "   Column('CostPerItem', Float),\n",
    "   Column('Country', String(124)),\n",
    "   schema=schema_name\n",
    ")\n",
    "\n",
    "# Create the table\n",
    "metadata.create_all(engine)"
   ]
  },
  {
   "cell_type": "markdown",
   "metadata": {},
   "source": [
    "Grant that table was create for make able to CDC to kafka"
   ]
  },
  {
   "cell_type": "code",
   "execution_count": null,
   "metadata": {},
   "outputs": [],
   "source": [
    "from sqlalchemy import text\n",
    "\n",
    "# Connect to the database\n",
    "connection = engine.connect()\n",
    "\n",
    "# Define your SQL queries\n",
    "sql_query1 = text(f\"GRANT SELECT ON {schema_name}.{table_name} TO c##dbzuser\")\n",
    "sql_query2 = text(f\"ALTER TABLE {schema_name}.{table_name} ADD SUPPLEMENTAL LOG DATA (ALL) COLUMNS\")\n",
    "\n",
    "# Execute the queries\n",
    "connection.execute(sql_query1)\n",
    "print(f\"Permissions granted successfully on {schema_name}.{table_name} to c##dbzuser\")\n",
    "\n",
    "connection.execute(sql_query2)\n",
    "print(f\"Table {schema_name}.{table_name} altered successfully\")\n"
   ]
  },
  {
   "cell_type": "code",
   "execution_count": null,
   "metadata": {},
   "outputs": [],
   "source": [
    "# Export the DataFrame to the Oracle database\n",
    "\n",
    "# Connect to the database\n",
    "connection = engine.connect()\n",
    "\n",
    "print(\"Import bulk data to Oracle database\")\n",
    "df.to_sql(table_name, connection, schema=schema_name, if_exists='append', index=False, dtype=dtype)\n"
   ]
  },
  {
   "cell_type": "code",
   "execution_count": null,
   "metadata": {},
   "outputs": [],
   "source": [
    "\n",
    "with engine.connect() as connection:\n",
    "    for i, row in df.iterrows():\n",
    "        transaction = connection.begin()  # Begin transaction for each row\n",
    "        try:\n",
    "            row_df = pd.DataFrame(row).T  # Transform the row into a DataFrame\n",
    "            lower_case_table_name = table_name.lower()  # Convert table name to lower case\n",
    "            row_df.to_sql(lower_case_table_name, connection, schema=schema_name, if_exists='append', index=False, dtype=dtype)\n",
    "            print(f\"Inserted row {i + 1} into {lower_case_table_name}\")\n",
    "            transaction.commit()  # Commit the transaction for each row\n",
    "            time.sleep(2)  # Wait for 1 second\n",
    "        except Exception as e:\n",
    "            transaction.rollback()  # Rollback the transaction if an exception occurs\n",
    "            print(\"Error occurred:\", e)\n"
   ]
  },
  {
   "cell_type": "code",
   "execution_count": null,
   "metadata": {},
   "outputs": [],
   "source": [
    "# Close the connection  \n",
    "connection.close()"
   ]
  }
 ],
 "metadata": {
  "kernelspec": {
   "display_name": "Python 3",
   "language": "python",
   "name": "python3"
  },
  "language_info": {
   "codemirror_mode": {
    "name": "ipython",
    "version": 3
   },
   "file_extension": ".py",
   "mimetype": "text/x-python",
   "name": "python",
   "nbconvert_exporter": "python",
   "pygments_lexer": "ipython3",
   "version": "3.10.14"
  }
 },
 "nbformat": 4,
 "nbformat_minor": 2
}
