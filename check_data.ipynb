{
 "cells": [
  {
   "cell_type": "code",
   "execution_count": 1,
   "metadata": {},
   "outputs": [],
   "source": [
    "import pandas as pd"
   ]
  },
  {
   "cell_type": "code",
   "execution_count": 3,
   "metadata": {},
   "outputs": [
    {
     "data": {
      "text/html": [
       "<div>\n",
       "<style scoped>\n",
       "    .dataframe tbody tr th:only-of-type {\n",
       "        vertical-align: middle;\n",
       "    }\n",
       "\n",
       "    .dataframe tbody tr th {\n",
       "        vertical-align: top;\n",
       "    }\n",
       "\n",
       "    .dataframe thead th {\n",
       "        text-align: right;\n",
       "    }\n",
       "</style>\n",
       "<table border=\"1\" class=\"dataframe\">\n",
       "  <thead>\n",
       "    <tr style=\"text-align: right;\">\n",
       "      <th></th>\n",
       "      <th>before</th>\n",
       "      <th>after</th>\n",
       "      <th>source</th>\n",
       "      <th>op</th>\n",
       "      <th>ts_ms</th>\n",
       "      <th>transaction</th>\n",
       "    </tr>\n",
       "  </thead>\n",
       "  <tbody>\n",
       "    <tr>\n",
       "      <th>0</th>\n",
       "      <td>None</td>\n",
       "      <td>{'UserId': 321531, 'TransactionId': 5900191, '...</td>\n",
       "      <td>{'version': '2.4.2.Final', 'connector': 'oracl...</td>\n",
       "      <td>r</td>\n",
       "      <td>1713235866340</td>\n",
       "      <td>None</td>\n",
       "    </tr>\n",
       "    <tr>\n",
       "      <th>1</th>\n",
       "      <td>None</td>\n",
       "      <td>{'UserId': 321531, 'TransactionId': 5900191, '...</td>\n",
       "      <td>{'version': '2.4.2.Final', 'connector': 'oracl...</td>\n",
       "      <td>r</td>\n",
       "      <td>1713235866341</td>\n",
       "      <td>None</td>\n",
       "    </tr>\n",
       "    <tr>\n",
       "      <th>2</th>\n",
       "      <td>None</td>\n",
       "      <td>{'UserId': 321531, 'TransactionId': 5900191, '...</td>\n",
       "      <td>{'version': '2.4.2.Final', 'connector': 'oracl...</td>\n",
       "      <td>r</td>\n",
       "      <td>1713235866341</td>\n",
       "      <td>None</td>\n",
       "    </tr>\n",
       "    <tr>\n",
       "      <th>3</th>\n",
       "      <td>None</td>\n",
       "      <td>{'UserId': 321531, 'TransactionId': 5900191, '...</td>\n",
       "      <td>{'version': '2.4.2.Final', 'connector': 'oracl...</td>\n",
       "      <td>r</td>\n",
       "      <td>1713235866341</td>\n",
       "      <td>None</td>\n",
       "    </tr>\n",
       "    <tr>\n",
       "      <th>4</th>\n",
       "      <td>None</td>\n",
       "      <td>{'UserId': 321531, 'TransactionId': 5900191, '...</td>\n",
       "      <td>{'version': '2.4.2.Final', 'connector': 'oracl...</td>\n",
       "      <td>r</td>\n",
       "      <td>1713235866342</td>\n",
       "      <td>None</td>\n",
       "    </tr>\n",
       "  </tbody>\n",
       "</table>\n",
       "</div>"
      ],
      "text/plain": [
       "  before                                              after  \\\n",
       "0   None  {'UserId': 321531, 'TransactionId': 5900191, '...   \n",
       "1   None  {'UserId': 321531, 'TransactionId': 5900191, '...   \n",
       "2   None  {'UserId': 321531, 'TransactionId': 5900191, '...   \n",
       "3   None  {'UserId': 321531, 'TransactionId': 5900191, '...   \n",
       "4   None  {'UserId': 321531, 'TransactionId': 5900191, '...   \n",
       "\n",
       "                                              source op          ts_ms  \\\n",
       "0  {'version': '2.4.2.Final', 'connector': 'oracl...  r  1713235866340   \n",
       "1  {'version': '2.4.2.Final', 'connector': 'oracl...  r  1713235866341   \n",
       "2  {'version': '2.4.2.Final', 'connector': 'oracl...  r  1713235866341   \n",
       "3  {'version': '2.4.2.Final', 'connector': 'oracl...  r  1713235866341   \n",
       "4  {'version': '2.4.2.Final', 'connector': 'oracl...  r  1713235866342   \n",
       "\n",
       "  transaction  \n",
       "0        None  \n",
       "1        None  \n",
       "2        None  \n",
       "3        None  \n",
       "4        None  "
      ]
     },
     "execution_count": 3,
     "metadata": {},
     "output_type": "execute_result"
    }
   ],
   "source": [
    "df = pd.read_parquet(\"oracle-02.DEBEZIUM.TRANSACTIONS+0+0000000000+0000000004.parquet\")\n",
    "df"
   ]
  }
 ],
 "metadata": {
  "kernelspec": {
   "display_name": "Python 3",
   "language": "python",
   "name": "python3"
  },
  "language_info": {
   "codemirror_mode": {
    "name": "ipython",
    "version": 3
   },
   "file_extension": ".py",
   "mimetype": "text/x-python",
   "name": "python",
   "nbconvert_exporter": "python",
   "pygments_lexer": "ipython3",
   "version": "3.10.12"
  }
 },
 "nbformat": 4,
 "nbformat_minor": 2
}
